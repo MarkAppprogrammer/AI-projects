{
 "cells": [
  {
   "cell_type": "code",
   "execution_count": 7,
   "metadata": {
    "_cell_guid": "b1076dfc-b9ad-4769-8c92-a6c4dae69d19",
    "_uuid": "8f2839f25d086af736a60e9eeb907d3b93b6e0e5",
    "execution": {
     "iopub.execute_input": "2025-06-01T23:12:54.851819Z",
     "iopub.status.busy": "2025-06-01T23:12:54.850890Z",
     "iopub.status.idle": "2025-06-01T23:12:54.856427Z",
     "shell.execute_reply": "2025-06-01T23:12:54.855525Z",
     "shell.execute_reply.started": "2025-06-01T23:12:54.851794Z"
    },
    "trusted": true
   },
   "outputs": [
    {
     "name": "stderr",
     "output_type": "stream",
     "text": [
      "/Users/mark/Library/Python/3.9/lib/python/site-packages/urllib3/__init__.py:35: NotOpenSSLWarning: urllib3 v2 only supports OpenSSL 1.1.1+, currently the 'ssl' module is compiled with 'LibreSSL 2.8.3'. See: https://github.com/urllib3/urllib3/issues/3020\n",
      "  warnings.warn(\n"
     ]
    }
   ],
   "source": [
    "import numpy as np \n",
    "import pandas as pd\n",
    "import os\n",
    "import tensorflow as tf"
   ]
  },
  {
   "cell_type": "markdown",
   "metadata": {},
   "source": [
    "# Annotation\n",
    "\n",
    "FPN (pre-trained) identifes key points and labels them"
   ]
  },
  {
   "cell_type": "code",
   "execution_count": null,
   "metadata": {
    "execution": {
     "iopub.execute_input": "2025-06-01T23:31:54.421017Z",
     "iopub.status.busy": "2025-06-01T23:31:54.420672Z",
     "iopub.status.idle": "2025-06-01T23:31:54.460820Z",
     "shell.execute_reply": "2025-06-01T23:31:54.459599Z",
     "shell.execute_reply.started": "2025-06-01T23:31:54.420989Z"
    },
    "trusted": true
   },
   "outputs": [],
   "source": [
    "from PIL import Image\n",
    "import numpy as np\n",
    "\n",
    "def load_image( path ) :\n",
    "    img = Image.open( path )\n",
    "    img.load()\n",
    "    data = np.asarray( img, dtype=\"int32\" )\n",
    "    return data\n",
    "\n",
    "# sample_image_path = \"/kaggle/input/geometry-3k/train/train/0/img_diagram.png\"\n",
    "# sample_image = load_image(sample_image_path)"
   ]
  },
  {
   "cell_type": "code",
   "execution_count": null,
   "metadata": {
    "execution": {
     "iopub.execute_input": "2025-06-01T23:31:54.547945Z",
     "iopub.status.busy": "2025-06-01T23:31:54.547579Z",
     "iopub.status.idle": "2025-06-01T23:31:54.554423Z",
     "shell.execute_reply": "2025-06-01T23:31:54.553192Z",
     "shell.execute_reply.started": "2025-06-01T23:31:54.547921Z"
    },
    "trusted": true
   },
   "outputs": [
    {
     "data": {
      "text/plain": [
       "(434, 864, 4)"
      ]
     },
     "execution_count": 30,
     "metadata": {},
     "output_type": "execute_result"
    }
   ],
   "source": [
    "# sample_image.shape"
   ]
  },
  {
   "cell_type": "markdown",
   "metadata": {},
   "source": [
    "## ResNet\n",
    "\n",
    "I'm making a implenation myself based on the orgional paper (34 layer version) to test my knowldege. The 50 layer version with alredy fitted weights will be use for the bottom to top part of the FPN."
   ]
  },
  {
   "cell_type": "code",
   "execution_count": 48,
   "metadata": {},
   "outputs": [],
   "source": [
    "import keras\n",
    "\n",
    "class ResNetBlock(keras.layers.Layer):\n",
    "    def __init__(self, filters, kernel_size, strides=1):\n",
    "        super(ResNetBlock, self).__init__()\n",
    "        self.dotted = (strides != 1)\n",
    "\n",
    "        self.conv1 = keras.layers.Conv2D(filters, kernel_size, strides, padding=\"same\")\n",
    "        self.bn1 = keras.layers.BatchNormalization()\n",
    "        self.conv2 = keras.layers.Conv2D(filters, kernel_size, padding=\"same\")\n",
    "        self.bn2 = keras.layers.BatchNormalization()\n",
    "        self.activation = keras.layers.ReLU()\n",
    "\n",
    "        if self.dotted: ## fix dimentions (option b in paper)\n",
    "            self.bn3 = keras.layers.BatchNormalization()\n",
    "            self.conv3 = keras.layers.Conv2D(filters, 1, strides)\n",
    "\n",
    "    \n",
    "    def call(self, inputs):\n",
    "        x = self.conv1(inputs)\n",
    "        x = self.bn1(x)\n",
    "        x = self.conv2(x)\n",
    "        x = self.bn2(x)\n",
    "\n",
    "        shortcut = inputs\n",
    "        if self.dotted:\n",
    "            shortcut = self.bn3(shortcut)\n",
    "            shortcut = self.conv3(shortcut)\n",
    "        \n",
    "        x = keras.layers.add([x, shortcut]) ##skip connections\n",
    "        x = self.activation(x)\n",
    "\n",
    "        return x\n",
    "    \n",
    "class ResNet(keras.Model):\n",
    "    def __init__(self):\n",
    "        super(ResNet, self).__init__()\n",
    "\n",
    "        self.conv1 = keras.layers.Conv2D(64, 7, 2, padding='same')\n",
    "        self.bn = keras.layers.BatchNormalization()\n",
    "        self.relu = keras.layers.ReLU()\n",
    "        self.mpl = keras.layers.MaxPooling2D(3, 2)\n",
    "\n",
    "        self.block1 = ResNetBlock(64, 3)\n",
    "        self.block2 = ResNetBlock(64, 3)\n",
    "        self.block3 = ResNetBlock(64, 3)\n",
    "\n",
    "        self.block4 = ResNetBlock(128, 3, 2)\n",
    "        self.block5 = ResNetBlock(128, 3)\n",
    "        self.block6 = ResNetBlock(128, 3)\n",
    "        self.block7 = ResNetBlock(128, 3)\n",
    "\n",
    "        self.block8 = ResNetBlock(256, 3, 2)\n",
    "        self.block9 = ResNetBlock(256, 3)\n",
    "        self.block10 = ResNetBlock(256, 3)\n",
    "        self.block11 = ResNetBlock(256, 3)\n",
    "        self.block12 = ResNetBlock(256, 3)\n",
    "        self.block13 = ResNetBlock(256, 3)\n",
    "\n",
    "        self.block14 = ResNetBlock(512, 3, 2)\n",
    "        self.block15 = ResNetBlock(512, 3)\n",
    "        self.block16 = ResNetBlock(512, 3)\n",
    "\n",
    "        self.pool = keras.layers.GlobalAveragePooling2D()\n",
    "        self.fc1 = keras.layers.Dense(512, activation='relu')\n",
    "        self.dp1 = keras.layers.Dropout(0.5)\n",
    "        self.fc2 = keras.layers.Dense(512, activation='relu')\n",
    "        self.dp2 = keras.layers.Dropout(0.5)\n",
    "        self.fc3 = keras.layers.Dense(64)\n",
    "\n",
    "    def call(self, x):\n",
    "        x = self.conv1(x)\n",
    "        x = self.bn(x)\n",
    "        x = self.relu(x)\n",
    "        x = self.mpl(x)\n",
    "\n",
    "        x = self.block1(x)\n",
    "        x = self.block2(x)\n",
    "        x = self.block3(x)\n",
    "\n",
    "        x = self.block4(x)\n",
    "        x = self.block5(x)\n",
    "        x = self.block6(x)\n",
    "        x = self.block7(x)\n",
    "\n",
    "        x = self.block8(x)\n",
    "        x = self.block9(x)\n",
    "        x = self.block10(x)\n",
    "        x = self.block11(x)\n",
    "        x = self.block12(x)\n",
    "        x = self.block13(x)\n",
    "\n",
    "        x = self.block14(x)\n",
    "        x = self.block15(x)\n",
    "        x = self.block16(x)\n",
    "\n",
    "        x = self.pool(x)\n",
    "        x = self.fc1(x)\n",
    "        x = self.dp1(x)\n",
    "        x = self.fc2(x)\n",
    "        x = self.dp2(x)\n",
    "        x = self.fc3(x)\n",
    "        \n",
    "        return x    "
   ]
  },
  {
   "cell_type": "code",
   "execution_count": 50,
   "metadata": {},
   "outputs": [
    {
     "data": {
      "text/html": [
       "<pre style=\"white-space:pre;overflow-x:auto;line-height:normal;font-family:Menlo,'DejaVu Sans Mono',consolas,'Courier New',monospace\"><span style=\"font-weight: bold\">Model: \"res_net_9\"</span>\n",
       "</pre>\n"
      ],
      "text/plain": [
       "\u001b[1mModel: \"res_net_9\"\u001b[0m\n"
      ]
     },
     "metadata": {},
     "output_type": "display_data"
    },
    {
     "data": {
      "text/html": [
       "<pre style=\"white-space:pre;overflow-x:auto;line-height:normal;font-family:Menlo,'DejaVu Sans Mono',consolas,'Courier New',monospace\">┏━━━━━━━━━━━━━━━━━━━━━━━━━━━━━━━━━┳━━━━━━━━━━━━━━━━━━━━━━━━┳━━━━━━━━━━━━━━━┓\n",
       "┃<span style=\"font-weight: bold\"> Layer (type)                    </span>┃<span style=\"font-weight: bold\"> Output Shape           </span>┃<span style=\"font-weight: bold\">       Param # </span>┃\n",
       "┡━━━━━━━━━━━━━━━━━━━━━━━━━━━━━━━━━╇━━━━━━━━━━━━━━━━━━━━━━━━╇━━━━━━━━━━━━━━━┩\n",
       "│ conv2d_304 (<span style=\"color: #0087ff; text-decoration-color: #0087ff\">Conv2D</span>)             │ (<span style=\"color: #00af00; text-decoration-color: #00af00\">1</span>, <span style=\"color: #00af00; text-decoration-color: #00af00\">240</span>, <span style=\"color: #00af00; text-decoration-color: #00af00\">240</span>, <span style=\"color: #00af00; text-decoration-color: #00af00\">64</span>)      │         <span style=\"color: #00af00; text-decoration-color: #00af00\">9,472</span> │\n",
       "├─────────────────────────────────┼────────────────────────┼───────────────┤\n",
       "│ batch_normalization_297         │ (<span style=\"color: #00af00; text-decoration-color: #00af00\">1</span>, <span style=\"color: #00af00; text-decoration-color: #00af00\">240</span>, <span style=\"color: #00af00; text-decoration-color: #00af00\">240</span>, <span style=\"color: #00af00; text-decoration-color: #00af00\">64</span>)      │           <span style=\"color: #00af00; text-decoration-color: #00af00\">256</span> │\n",
       "│ (<span style=\"color: #0087ff; text-decoration-color: #0087ff\">BatchNormalization</span>)            │                        │               │\n",
       "├─────────────────────────────────┼────────────────────────┼───────────────┤\n",
       "│ re_lu_141 (<span style=\"color: #0087ff; text-decoration-color: #0087ff\">ReLU</span>)                │ ?                      │             <span style=\"color: #00af00; text-decoration-color: #00af00\">0</span> │\n",
       "├─────────────────────────────────┼────────────────────────┼───────────────┤\n",
       "│ max_pooling2d_9 (<span style=\"color: #0087ff; text-decoration-color: #0087ff\">MaxPooling2D</span>)  │ ?                      │             <span style=\"color: #00af00; text-decoration-color: #00af00\">0</span> │\n",
       "├─────────────────────────────────┼────────────────────────┼───────────────┤\n",
       "│ res_net_block_132 (<span style=\"color: #0087ff; text-decoration-color: #0087ff\">ResNetBlock</span>) │ ?                      │        <span style=\"color: #00af00; text-decoration-color: #00af00\">74,368</span> │\n",
       "├─────────────────────────────────┼────────────────────────┼───────────────┤\n",
       "│ res_net_block_133 (<span style=\"color: #0087ff; text-decoration-color: #0087ff\">ResNetBlock</span>) │ ?                      │        <span style=\"color: #00af00; text-decoration-color: #00af00\">74,368</span> │\n",
       "├─────────────────────────────────┼────────────────────────┼───────────────┤\n",
       "│ res_net_block_134 (<span style=\"color: #0087ff; text-decoration-color: #0087ff\">ResNetBlock</span>) │ ?                      │        <span style=\"color: #00af00; text-decoration-color: #00af00\">74,368</span> │\n",
       "├─────────────────────────────────┼────────────────────────┼───────────────┤\n",
       "│ res_net_block_135 (<span style=\"color: #0087ff; text-decoration-color: #0087ff\">ResNetBlock</span>) │ ?                      │       <span style=\"color: #00af00; text-decoration-color: #00af00\">231,040</span> │\n",
       "├─────────────────────────────────┼────────────────────────┼───────────────┤\n",
       "│ res_net_block_136 (<span style=\"color: #0087ff; text-decoration-color: #0087ff\">ResNetBlock</span>) │ ?                      │       <span style=\"color: #00af00; text-decoration-color: #00af00\">296,192</span> │\n",
       "├─────────────────────────────────┼────────────────────────┼───────────────┤\n",
       "│ res_net_block_137 (<span style=\"color: #0087ff; text-decoration-color: #0087ff\">ResNetBlock</span>) │ ?                      │       <span style=\"color: #00af00; text-decoration-color: #00af00\">296,192</span> │\n",
       "├─────────────────────────────────┼────────────────────────┼───────────────┤\n",
       "│ res_net_block_138 (<span style=\"color: #0087ff; text-decoration-color: #0087ff\">ResNetBlock</span>) │ ?                      │       <span style=\"color: #00af00; text-decoration-color: #00af00\">296,192</span> │\n",
       "├─────────────────────────────────┼────────────────────────┼───────────────┤\n",
       "│ res_net_block_139 (<span style=\"color: #0087ff; text-decoration-color: #0087ff\">ResNetBlock</span>) │ ?                      │       <span style=\"color: #00af00; text-decoration-color: #00af00\">920,832</span> │\n",
       "├─────────────────────────────────┼────────────────────────┼───────────────┤\n",
       "│ res_net_block_140 (<span style=\"color: #0087ff; text-decoration-color: #0087ff\">ResNetBlock</span>) │ ?                      │     <span style=\"color: #00af00; text-decoration-color: #00af00\">1,182,208</span> │\n",
       "├─────────────────────────────────┼────────────────────────┼───────────────┤\n",
       "│ res_net_block_141 (<span style=\"color: #0087ff; text-decoration-color: #0087ff\">ResNetBlock</span>) │ ?                      │     <span style=\"color: #00af00; text-decoration-color: #00af00\">1,182,208</span> │\n",
       "├─────────────────────────────────┼────────────────────────┼───────────────┤\n",
       "│ res_net_block_142 (<span style=\"color: #0087ff; text-decoration-color: #0087ff\">ResNetBlock</span>) │ ?                      │     <span style=\"color: #00af00; text-decoration-color: #00af00\">1,182,208</span> │\n",
       "├─────────────────────────────────┼────────────────────────┼───────────────┤\n",
       "│ res_net_block_143 (<span style=\"color: #0087ff; text-decoration-color: #0087ff\">ResNetBlock</span>) │ ?                      │     <span style=\"color: #00af00; text-decoration-color: #00af00\">1,182,208</span> │\n",
       "├─────────────────────────────────┼────────────────────────┼───────────────┤\n",
       "│ res_net_block_144 (<span style=\"color: #0087ff; text-decoration-color: #0087ff\">ResNetBlock</span>) │ ?                      │     <span style=\"color: #00af00; text-decoration-color: #00af00\">1,182,208</span> │\n",
       "├─────────────────────────────────┼────────────────────────┼───────────────┤\n",
       "│ res_net_block_145 (<span style=\"color: #0087ff; text-decoration-color: #0087ff\">ResNetBlock</span>) │ ?                      │     <span style=\"color: #00af00; text-decoration-color: #00af00\">3,676,672</span> │\n",
       "├─────────────────────────────────┼────────────────────────┼───────────────┤\n",
       "│ res_net_block_146 (<span style=\"color: #0087ff; text-decoration-color: #0087ff\">ResNetBlock</span>) │ ?                      │     <span style=\"color: #00af00; text-decoration-color: #00af00\">4,723,712</span> │\n",
       "├─────────────────────────────────┼────────────────────────┼───────────────┤\n",
       "│ res_net_block_147 (<span style=\"color: #0087ff; text-decoration-color: #0087ff\">ResNetBlock</span>) │ ?                      │     <span style=\"color: #00af00; text-decoration-color: #00af00\">4,723,712</span> │\n",
       "├─────────────────────────────────┼────────────────────────┼───────────────┤\n",
       "│ global_average_pooling2d_8      │ ?                      │             <span style=\"color: #00af00; text-decoration-color: #00af00\">0</span> │\n",
       "│ (<span style=\"color: #0087ff; text-decoration-color: #0087ff\">GlobalAveragePooling2D</span>)        │                        │               │\n",
       "├─────────────────────────────────┼────────────────────────┼───────────────┤\n",
       "│ dense_24 (<span style=\"color: #0087ff; text-decoration-color: #0087ff\">Dense</span>)                │ (<span style=\"color: #00af00; text-decoration-color: #00af00\">1</span>, <span style=\"color: #00af00; text-decoration-color: #00af00\">512</span>)               │       <span style=\"color: #00af00; text-decoration-color: #00af00\">262,656</span> │\n",
       "├─────────────────────────────────┼────────────────────────┼───────────────┤\n",
       "│ dropout_16 (<span style=\"color: #0087ff; text-decoration-color: #0087ff\">Dropout</span>)            │ ?                      │             <span style=\"color: #00af00; text-decoration-color: #00af00\">0</span> │\n",
       "├─────────────────────────────────┼────────────────────────┼───────────────┤\n",
       "│ dense_25 (<span style=\"color: #0087ff; text-decoration-color: #0087ff\">Dense</span>)                │ (<span style=\"color: #00af00; text-decoration-color: #00af00\">1</span>, <span style=\"color: #00af00; text-decoration-color: #00af00\">512</span>)               │       <span style=\"color: #00af00; text-decoration-color: #00af00\">262,656</span> │\n",
       "├─────────────────────────────────┼────────────────────────┼───────────────┤\n",
       "│ dropout_17 (<span style=\"color: #0087ff; text-decoration-color: #0087ff\">Dropout</span>)            │ ?                      │             <span style=\"color: #00af00; text-decoration-color: #00af00\">0</span> │\n",
       "├─────────────────────────────────┼────────────────────────┼───────────────┤\n",
       "│ dense_26 (<span style=\"color: #0087ff; text-decoration-color: #0087ff\">Dense</span>)                │ (<span style=\"color: #00af00; text-decoration-color: #00af00\">1</span>, <span style=\"color: #00af00; text-decoration-color: #00af00\">64</span>)                │        <span style=\"color: #00af00; text-decoration-color: #00af00\">32,832</span> │\n",
       "└─────────────────────────────────┴────────────────────────┴───────────────┘\n",
       "</pre>\n"
      ],
      "text/plain": [
       "┏━━━━━━━━━━━━━━━━━━━━━━━━━━━━━━━━━┳━━━━━━━━━━━━━━━━━━━━━━━━┳━━━━━━━━━━━━━━━┓\n",
       "┃\u001b[1m \u001b[0m\u001b[1mLayer (type)                   \u001b[0m\u001b[1m \u001b[0m┃\u001b[1m \u001b[0m\u001b[1mOutput Shape          \u001b[0m\u001b[1m \u001b[0m┃\u001b[1m \u001b[0m\u001b[1m      Param #\u001b[0m\u001b[1m \u001b[0m┃\n",
       "┡━━━━━━━━━━━━━━━━━━━━━━━━━━━━━━━━━╇━━━━━━━━━━━━━━━━━━━━━━━━╇━━━━━━━━━━━━━━━┩\n",
       "│ conv2d_304 (\u001b[38;5;33mConv2D\u001b[0m)             │ (\u001b[38;5;34m1\u001b[0m, \u001b[38;5;34m240\u001b[0m, \u001b[38;5;34m240\u001b[0m, \u001b[38;5;34m64\u001b[0m)      │         \u001b[38;5;34m9,472\u001b[0m │\n",
       "├─────────────────────────────────┼────────────────────────┼───────────────┤\n",
       "│ batch_normalization_297         │ (\u001b[38;5;34m1\u001b[0m, \u001b[38;5;34m240\u001b[0m, \u001b[38;5;34m240\u001b[0m, \u001b[38;5;34m64\u001b[0m)      │           \u001b[38;5;34m256\u001b[0m │\n",
       "│ (\u001b[38;5;33mBatchNormalization\u001b[0m)            │                        │               │\n",
       "├─────────────────────────────────┼────────────────────────┼───────────────┤\n",
       "│ re_lu_141 (\u001b[38;5;33mReLU\u001b[0m)                │ ?                      │             \u001b[38;5;34m0\u001b[0m │\n",
       "├─────────────────────────────────┼────────────────────────┼───────────────┤\n",
       "│ max_pooling2d_9 (\u001b[38;5;33mMaxPooling2D\u001b[0m)  │ ?                      │             \u001b[38;5;34m0\u001b[0m │\n",
       "├─────────────────────────────────┼────────────────────────┼───────────────┤\n",
       "│ res_net_block_132 (\u001b[38;5;33mResNetBlock\u001b[0m) │ ?                      │        \u001b[38;5;34m74,368\u001b[0m │\n",
       "├─────────────────────────────────┼────────────────────────┼───────────────┤\n",
       "│ res_net_block_133 (\u001b[38;5;33mResNetBlock\u001b[0m) │ ?                      │        \u001b[38;5;34m74,368\u001b[0m │\n",
       "├─────────────────────────────────┼────────────────────────┼───────────────┤\n",
       "│ res_net_block_134 (\u001b[38;5;33mResNetBlock\u001b[0m) │ ?                      │        \u001b[38;5;34m74,368\u001b[0m │\n",
       "├─────────────────────────────────┼────────────────────────┼───────────────┤\n",
       "│ res_net_block_135 (\u001b[38;5;33mResNetBlock\u001b[0m) │ ?                      │       \u001b[38;5;34m231,040\u001b[0m │\n",
       "├─────────────────────────────────┼────────────────────────┼───────────────┤\n",
       "│ res_net_block_136 (\u001b[38;5;33mResNetBlock\u001b[0m) │ ?                      │       \u001b[38;5;34m296,192\u001b[0m │\n",
       "├─────────────────────────────────┼────────────────────────┼───────────────┤\n",
       "│ res_net_block_137 (\u001b[38;5;33mResNetBlock\u001b[0m) │ ?                      │       \u001b[38;5;34m296,192\u001b[0m │\n",
       "├─────────────────────────────────┼────────────────────────┼───────────────┤\n",
       "│ res_net_block_138 (\u001b[38;5;33mResNetBlock\u001b[0m) │ ?                      │       \u001b[38;5;34m296,192\u001b[0m │\n",
       "├─────────────────────────────────┼────────────────────────┼───────────────┤\n",
       "│ res_net_block_139 (\u001b[38;5;33mResNetBlock\u001b[0m) │ ?                      │       \u001b[38;5;34m920,832\u001b[0m │\n",
       "├─────────────────────────────────┼────────────────────────┼───────────────┤\n",
       "│ res_net_block_140 (\u001b[38;5;33mResNetBlock\u001b[0m) │ ?                      │     \u001b[38;5;34m1,182,208\u001b[0m │\n",
       "├─────────────────────────────────┼────────────────────────┼───────────────┤\n",
       "│ res_net_block_141 (\u001b[38;5;33mResNetBlock\u001b[0m) │ ?                      │     \u001b[38;5;34m1,182,208\u001b[0m │\n",
       "├─────────────────────────────────┼────────────────────────┼───────────────┤\n",
       "│ res_net_block_142 (\u001b[38;5;33mResNetBlock\u001b[0m) │ ?                      │     \u001b[38;5;34m1,182,208\u001b[0m │\n",
       "├─────────────────────────────────┼────────────────────────┼───────────────┤\n",
       "│ res_net_block_143 (\u001b[38;5;33mResNetBlock\u001b[0m) │ ?                      │     \u001b[38;5;34m1,182,208\u001b[0m │\n",
       "├─────────────────────────────────┼────────────────────────┼───────────────┤\n",
       "│ res_net_block_144 (\u001b[38;5;33mResNetBlock\u001b[0m) │ ?                      │     \u001b[38;5;34m1,182,208\u001b[0m │\n",
       "├─────────────────────────────────┼────────────────────────┼───────────────┤\n",
       "│ res_net_block_145 (\u001b[38;5;33mResNetBlock\u001b[0m) │ ?                      │     \u001b[38;5;34m3,676,672\u001b[0m │\n",
       "├─────────────────────────────────┼────────────────────────┼───────────────┤\n",
       "│ res_net_block_146 (\u001b[38;5;33mResNetBlock\u001b[0m) │ ?                      │     \u001b[38;5;34m4,723,712\u001b[0m │\n",
       "├─────────────────────────────────┼────────────────────────┼───────────────┤\n",
       "│ res_net_block_147 (\u001b[38;5;33mResNetBlock\u001b[0m) │ ?                      │     \u001b[38;5;34m4,723,712\u001b[0m │\n",
       "├─────────────────────────────────┼────────────────────────┼───────────────┤\n",
       "│ global_average_pooling2d_8      │ ?                      │             \u001b[38;5;34m0\u001b[0m │\n",
       "│ (\u001b[38;5;33mGlobalAveragePooling2D\u001b[0m)        │                        │               │\n",
       "├─────────────────────────────────┼────────────────────────┼───────────────┤\n",
       "│ dense_24 (\u001b[38;5;33mDense\u001b[0m)                │ (\u001b[38;5;34m1\u001b[0m, \u001b[38;5;34m512\u001b[0m)               │       \u001b[38;5;34m262,656\u001b[0m │\n",
       "├─────────────────────────────────┼────────────────────────┼───────────────┤\n",
       "│ dropout_16 (\u001b[38;5;33mDropout\u001b[0m)            │ ?                      │             \u001b[38;5;34m0\u001b[0m │\n",
       "├─────────────────────────────────┼────────────────────────┼───────────────┤\n",
       "│ dense_25 (\u001b[38;5;33mDense\u001b[0m)                │ (\u001b[38;5;34m1\u001b[0m, \u001b[38;5;34m512\u001b[0m)               │       \u001b[38;5;34m262,656\u001b[0m │\n",
       "├─────────────────────────────────┼────────────────────────┼───────────────┤\n",
       "│ dropout_17 (\u001b[38;5;33mDropout\u001b[0m)            │ ?                      │             \u001b[38;5;34m0\u001b[0m │\n",
       "├─────────────────────────────────┼────────────────────────┼───────────────┤\n",
       "│ dense_26 (\u001b[38;5;33mDense\u001b[0m)                │ (\u001b[38;5;34m1\u001b[0m, \u001b[38;5;34m64\u001b[0m)                │        \u001b[38;5;34m32,832\u001b[0m │\n",
       "└─────────────────────────────────┴────────────────────────┴───────────────┘\n"
      ]
     },
     "metadata": {},
     "output_type": "display_data"
    },
    {
     "data": {
      "text/html": [
       "<pre style=\"white-space:pre;overflow-x:auto;line-height:normal;font-family:Menlo,'DejaVu Sans Mono',consolas,'Courier New',monospace\"><span style=\"font-weight: bold\"> Total params: </span><span style=\"color: #00af00; text-decoration-color: #00af00\">21,866,560</span> (83.41 MB)\n",
       "</pre>\n"
      ],
      "text/plain": [
       "\u001b[1m Total params: \u001b[0m\u001b[38;5;34m21,866,560\u001b[0m (83.41 MB)\n"
      ]
     },
     "metadata": {},
     "output_type": "display_data"
    },
    {
     "data": {
      "text/html": [
       "<pre style=\"white-space:pre;overflow-x:auto;line-height:normal;font-family:Menlo,'DejaVu Sans Mono',consolas,'Courier New',monospace\"><span style=\"font-weight: bold\"> Trainable params: </span><span style=\"color: #00af00; text-decoration-color: #00af00\">21,850,432</span> (83.35 MB)\n",
       "</pre>\n"
      ],
      "text/plain": [
       "\u001b[1m Trainable params: \u001b[0m\u001b[38;5;34m21,850,432\u001b[0m (83.35 MB)\n"
      ]
     },
     "metadata": {},
     "output_type": "display_data"
    },
    {
     "data": {
      "text/html": [
       "<pre style=\"white-space:pre;overflow-x:auto;line-height:normal;font-family:Menlo,'DejaVu Sans Mono',consolas,'Courier New',monospace\"><span style=\"font-weight: bold\"> Non-trainable params: </span><span style=\"color: #00af00; text-decoration-color: #00af00\">16,128</span> (63.00 KB)\n",
       "</pre>\n"
      ],
      "text/plain": [
       "\u001b[1m Non-trainable params: \u001b[0m\u001b[38;5;34m16,128\u001b[0m (63.00 KB)\n"
      ]
     },
     "metadata": {},
     "output_type": "display_data"
    }
   ],
   "source": [
    "model = ResNet()\n",
    "\n",
    "input_test = tf.random.normal([1, 480, 480, 3])\n",
    "model(input_test)\n",
    "model.summary()"
   ]
  },
  {
   "cell_type": "code",
   "execution_count": null,
   "metadata": {},
   "outputs": [],
   "source": []
  }
 ],
 "metadata": {
  "kaggle": {
   "accelerator": "none",
   "dataSources": [
    {
     "datasetId": 7568940,
     "sourceId": 12029768,
     "sourceType": "datasetVersion"
    }
   ],
   "dockerImageVersionId": 31040,
   "isGpuEnabled": false,
   "isInternetEnabled": false,
   "language": "python",
   "sourceType": "notebook"
  },
  "kernelspec": {
   "display_name": "Python 3",
   "language": "python",
   "name": "python3"
  },
  "language_info": {
   "codemirror_mode": {
    "name": "ipython",
    "version": 3
   },
   "file_extension": ".py",
   "mimetype": "text/x-python",
   "name": "python",
   "nbconvert_exporter": "python",
   "pygments_lexer": "ipython3",
   "version": "3.9.6"
  }
 },
 "nbformat": 4,
 "nbformat_minor": 4
}
